{
 "cells": [
  {
   "cell_type": "code",
   "execution_count": 6,
   "metadata": {},
   "outputs": [],
   "source": [
    "from PIL import Image\n",
    "import os, glob\n",
    "import numpy as np\n",
    "# from sklearn import cross_validation\n",
    "from sklearn import model_selection\n",
    "\n",
    "classes = [\"monkey\", \"boar\", \"crow\"]\n",
    "num_classes = len(classes)\n",
    "image_size = 50\n",
    "\n",
    "# 画像の読み込み\n",
    "\n",
    "X = []\n",
    "Y = []\n",
    "for index, classlabel in enumerate(classes):\n",
    "    photos_dir = \"./\" + classlabel\n",
    "    files = glob.glob(photos_dir + \"/*.jpg\")\n",
    "    for i, file in enumerate(files):\n",
    "        if i >= 200: break\n",
    "        image = Image.open(file)\n",
    "        image = image.convert(\"RGB\")\n",
    "        image = image.resize((image_size, image_size))\n",
    "        data = np.asarray(image)\n",
    "        X.append(data) # This is a list. ex.) X = [data, data, data, ...]\n",
    "        Y.append(index) # This is a list. ex.) Y = [index, index, index, ...]\n",
    "\n",
    "X = np.array(X) # This is a numpy array. X = array[[data, data, data, ...]]\n",
    "Y = np.array(Y) # This is a numpy array. Y = array[[index, index, index, ...]]\n",
    "\n",
    "X_train, X_test, y_train, y_test = model_selection.train_test_split(X, Y)\n",
    "xy = (X_train, X_test, y_train, y_test)\n",
    "np.save(\"./animal.npy\", xy)\n",
    "\n"
   ]
  },
  {
   "cell_type": "code",
   "execution_count": 7,
   "metadata": {},
   "outputs": [
    {
     "data": {
      "text/plain": [
       "450"
      ]
     },
     "execution_count": 7,
     "metadata": {},
     "output_type": "execute_result"
    }
   ],
   "source": [
    "len(X_train)"
   ]
  },
  {
   "cell_type": "code",
   "execution_count": 8,
   "metadata": {},
   "outputs": [
    {
     "data": {
      "text/plain": [
       "150"
      ]
     },
     "execution_count": 8,
     "metadata": {},
     "output_type": "execute_result"
    }
   ],
   "source": [
    "len(X_test)"
   ]
  },
  {
   "cell_type": "code",
   "execution_count": 9,
   "metadata": {},
   "outputs": [
    {
     "data": {
      "text/plain": [
       "450"
      ]
     },
     "execution_count": 9,
     "metadata": {},
     "output_type": "execute_result"
    }
   ],
   "source": [
    "len(y_train)"
   ]
  },
  {
   "cell_type": "code",
   "execution_count": 10,
   "metadata": {},
   "outputs": [
    {
     "data": {
      "text/plain": [
       "150"
      ]
     },
     "execution_count": 10,
     "metadata": {},
     "output_type": "execute_result"
    }
   ],
   "source": [
    "len(y_test)"
   ]
  },
  {
   "cell_type": "code",
   "execution_count": 11,
   "metadata": {},
   "outputs": [
    {
     "data": {
      "text/plain": [
       "array([[[140, 159, 201],\n",
       "        [125, 144, 174],\n",
       "        [135, 158, 199],\n",
       "        ...,\n",
       "        [165, 176, 198],\n",
       "        [102, 102, 114],\n",
       "        [ 19,  19,  27]],\n",
       "\n",
       "       [[ 94, 118, 154],\n",
       "        [ 78,  96, 134],\n",
       "        [120, 138, 176],\n",
       "        ...,\n",
       "        [112, 127, 156],\n",
       "        [ 91,  97, 121],\n",
       "        [140, 148, 169]],\n",
       "\n",
       "       [[107, 132, 163],\n",
       "        [ 75,  92, 136],\n",
       "        [134, 148, 185],\n",
       "        ...,\n",
       "        [137, 154, 184],\n",
       "        [  6,  12,  44],\n",
       "        [137, 146, 177]],\n",
       "\n",
       "       ...,\n",
       "\n",
       "       [[176, 191, 222],\n",
       "        [167, 182, 213],\n",
       "        [167, 182, 213],\n",
       "        ...,\n",
       "        [ 87, 107, 142],\n",
       "        [154, 169, 200],\n",
       "        [106, 125, 155]],\n",
       "\n",
       "       [[167, 184, 214],\n",
       "        [169, 186, 216],\n",
       "        [170, 187, 217],\n",
       "        ...,\n",
       "        [ 92, 110, 146],\n",
       "        [141, 161, 194],\n",
       "        [  0,   0,  30]],\n",
       "\n",
       "       [[167, 184, 214],\n",
       "        [167, 184, 214],\n",
       "        [169, 186, 216],\n",
       "        ...,\n",
       "        [ 79,  97, 133],\n",
       "        [ 70,  88, 124],\n",
       "        [118, 127, 160]]], dtype=uint8)"
      ]
     },
     "execution_count": 11,
     "metadata": {},
     "output_type": "execute_result"
    }
   ],
   "source": [
    "X_train[100]"
   ]
  },
  {
   "cell_type": "code",
   "execution_count": 15,
   "metadata": {},
   "outputs": [
    {
     "data": {
      "text/plain": [
       "array([0, 2, 0, 2, 0, 2, 1, 1, 0, 2, 1, 2, 2, 0, 1, 1, 1, 0, 0, 1, 0, 2,\n",
       "       2, 2, 2, 2, 2, 1, 2, 1, 2, 0, 2, 2, 0, 2, 2, 1, 1, 1, 0, 1, 2, 2,\n",
       "       2, 1, 0, 2, 2, 2, 2, 0, 1, 0, 1, 0, 1, 2, 1, 1, 0, 1, 1, 1, 1, 1,\n",
       "       0, 2, 2, 1, 2, 2, 1, 2, 2, 1, 0, 1, 1, 0, 0, 1, 1, 2, 0, 1, 2, 0,\n",
       "       1, 2, 1, 0, 0, 2, 2, 1, 2, 2, 2, 1, 2, 0, 1, 0, 0, 2, 0, 0, 2, 2,\n",
       "       0, 2, 0, 2, 1, 1, 1, 0, 2, 1, 1, 1, 1, 1, 2, 1, 0, 0, 2, 1, 1, 0,\n",
       "       2, 2, 0, 2, 0, 2, 1, 1, 0, 0, 0, 2, 2, 0, 1, 2, 1, 1, 0, 0, 2, 0,\n",
       "       0, 2, 1, 0, 0, 1, 2, 2, 1, 0, 0, 0, 1, 0, 2, 0, 1, 0, 0, 0, 2, 1,\n",
       "       0, 2, 2, 0, 1, 1, 1, 1, 1, 2, 1, 2, 2, 0, 1, 2, 1, 1, 1, 2, 2, 1,\n",
       "       2, 1, 1, 2, 1, 2, 0, 0, 0, 1, 1, 2, 0, 1, 1, 2, 1, 2, 1, 2, 2, 0,\n",
       "       1, 2, 0, 1, 1, 1, 2, 0, 1, 0, 2, 2, 0, 1, 2, 2, 0, 0, 0, 0, 0, 1,\n",
       "       2, 2, 1, 0, 0, 0, 2, 0, 1, 2, 0, 1, 2, 0, 2, 2, 0, 1, 0, 0, 0, 1,\n",
       "       1, 1, 2, 2, 0, 1, 2, 2, 2, 1, 1, 0, 0, 2, 1, 0, 1, 2, 0, 1, 1, 1,\n",
       "       0, 0, 0, 0, 0, 1, 2, 2, 2, 0, 1, 2, 0, 0, 0, 0, 0, 1, 1, 0, 2, 0,\n",
       "       1, 0, 2, 0, 2, 2, 0, 0, 0, 1, 0, 0, 1, 0, 2, 2, 2, 2, 2, 2, 1, 2,\n",
       "       0, 1, 0, 1, 2, 1, 2, 1, 1, 0, 0, 2, 2, 1, 1, 2, 2, 2, 1, 1, 0, 2,\n",
       "       1, 1, 0, 0, 2, 1, 1, 2, 1, 0, 0, 2, 2, 0, 2, 1, 0, 1, 0, 0, 0, 2,\n",
       "       0, 2, 1, 0, 0, 2, 0, 1, 0, 0, 2, 0, 2, 0, 0, 0, 0, 2, 1, 0, 1, 0,\n",
       "       0, 0, 0, 1, 1, 2, 2, 2, 1, 1, 2, 2, 0, 2, 0, 1, 0, 0, 1, 0, 2, 1,\n",
       "       1, 0, 0, 1, 1, 1, 1, 0, 1, 0, 2, 1, 0, 2, 1, 0, 2, 1, 2, 0, 1, 2,\n",
       "       1, 1, 2, 2, 2, 0, 2, 2, 0, 2])"
      ]
     },
     "execution_count": 15,
     "metadata": {},
     "output_type": "execute_result"
    }
   ],
   "source": [
    "y_train"
   ]
  },
  {
   "cell_type": "code",
   "execution_count": null,
   "metadata": {},
   "outputs": [],
   "source": []
  }
 ],
 "metadata": {
  "kernelspec": {
   "display_name": "Python 3",
   "language": "python",
   "name": "python3"
  },
  "language_info": {
   "codemirror_mode": {
    "name": "ipython",
    "version": 3
   },
   "file_extension": ".py",
   "mimetype": "text/x-python",
   "name": "python",
   "nbconvert_exporter": "python",
   "pygments_lexer": "ipython3",
   "version": "3.6.9"
  }
 },
 "nbformat": 4,
 "nbformat_minor": 2
}
